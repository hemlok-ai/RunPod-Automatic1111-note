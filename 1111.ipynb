{
 "cells": [
  {
   "cell_type": "code",
   "execution_count": null,
   "id": "465120f5-05ad-43d2-9d13-9d3e2fcc8df1",
   "metadata": {
    "tags": []
   },
   "outputs": [],
   "source": [
    "%cd /workspace\n",
    "!git clone https://github.com/AUTOMATIC1111/stable-diffusion-webui.git"
   ]
  },
  {
   "cell_type": "code",
   "execution_count": null,
   "id": "e5ca1411",
   "metadata": {},
   "outputs": [],
   "source": [
    "%cd /workspace/stable-diffusion-webui/models/VAE\n",
    "!wget \"https://huggingface.co/stabilityai/sd-vae-ft-mse-original/resolve/main/vae-ft-mse-840000-ema-pruned.safetensors\""
   ]
  },
  {
   "cell_type": "code",
   "execution_count": null,
   "id": "959561c7-1590-4405-b412-2ccad61fae2c",
   "metadata": {
    "tags": []
   },
   "outputs": [],
   "source": [
    "%cd /workspace/stable-diffusion-webui/models/Stable-diffusion\n",
    "!wget \"https://huggingface.co/Hemlok/REV-Mix/resolve/main/Models/REV-I.safetensors\"\n",
    "!wget \"https://huggingface.co/Hemlok/QuinceMix/resolve/main/Models/QuinceMixV2.safetensors\"\n",
    "!wget \"https://huggingface.co/Hemlok/VaLMix/resolve/main/VaLMixV2/Models/MJVaL2.safetensors\""
   ]
  },
  {
   "cell_type": "code",
   "execution_count": null,
   "id": "aa2d0ff6",
   "metadata": {},
   "outputs": [],
   "source": [
    "%cd /workspace/stable-diffusion-webui/extensions/\n",
    "\n",
    "!git clone \"https://github.com/AI-Creators-Society/stable-diffusion-webui-localization-ja_JP.git\"\n",
    "!git clone \"https://github.com/adieyal/sd-dynamic-prompts.git\""
   ]
  },
  {
   "cell_type": "code",
   "execution_count": null,
   "id": "79ed77cd-d26e-4d0b-a6a7-8f75c7b5f68f",
   "metadata": {
    "tags": []
   },
   "outputs": [],
   "source": [
    "#Extension導入用\n",
    "%cd /workspace/stable-diffusion-webui\n",
    "!python launch.py --share --ngrok --gradio-queue --enable-insecure-extension-access"
   ]
  },
  {
   "cell_type": "code",
   "execution_count": null,
   "id": "63ab6633-5f5d-4da4-8897-9d62d23fd680",
   "metadata": {
    "tags": []
   },
   "outputs": [],
   "source": [
    "#通常起動\n",
    "%cd /workspace/stable-diffusion-webui\n",
    "!python launch.py --share --gradio-queue --no-half-vae"
   ]
  }
 ],
 "metadata": {
  "kernelspec": {
   "display_name": "Python 3 (ipykernel)",
   "language": "python",
   "name": "python3"
  },
  "language_info": {
   "codemirror_mode": {
    "name": "ipython",
    "version": 3
   },
   "file_extension": ".py",
   "mimetype": "text/x-python",
   "name": "python",
   "nbconvert_exporter": "python",
   "pygments_lexer": "ipython3",
   "version": "3.10.10"
  }
 },
 "nbformat": 4,
 "nbformat_minor": 5
}
